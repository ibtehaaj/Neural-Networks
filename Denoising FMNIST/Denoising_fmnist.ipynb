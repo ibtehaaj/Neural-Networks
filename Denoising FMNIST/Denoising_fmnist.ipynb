{
 "cells": [
  {
   "cell_type": "code",
   "execution_count": 0,
   "metadata": {
    "colab": {},
    "colab_type": "code",
    "id": "rwaIaM-dp78U"
   },
   "outputs": [],
   "source": [
    "import os\n",
    "import time\n",
    "import numpy as np\n",
    "import matplotlib.pyplot as plt\n",
    "from keras.datasets import fashion_mnist\n",
    "from keras.models import Model\n",
    "from keras.layers import Input, Conv2D, MaxPooling2D, UpSampling2D\n",
    "from keras.callbacks import ModelCheckpoint, CSVLogger, EarlyStopping\n",
    "from keras.utils import plot_model"
   ]
  },
  {
   "cell_type": "code",
   "execution_count": 2,
   "metadata": {
    "colab": {
     "base_uri": "https://localhost:8080/",
     "height": 121
    },
    "colab_type": "code",
    "executionInfo": {
     "elapsed": 26690,
     "status": "ok",
     "timestamp": 1563030128982,
     "user": {
      "displayName": "Gautam J",
      "photoUrl": "https://lh5.googleusercontent.com/-fBaexzNpkSY/AAAAAAAAAAI/AAAAAAAAK0c/lidXWy2Lnbs/s64/photo.jpg",
      "userId": "18367364014820236362"
     },
     "user_tz": -330
    },
    "id": "fU-SwtFKhcm7",
    "outputId": "e68ea5ac-9295-4057-f1ea-f6a82a7f2b9e"
   },
   "outputs": [
    {
     "name": "stdout",
     "output_type": "stream",
     "text": [
      "Go to this URL in a browser: https://accounts.google.com/o/oauth2/auth?client_id=947318989803-6bn6qk8qdgf4n4g3pfee6491hc0brc4i.apps.googleusercontent.com&redirect_uri=urn%3Aietf%3Awg%3Aoauth%3A2.0%3Aoob&scope=email%20https%3A%2F%2Fwww.googleapis.com%2Fauth%2Fdocs.test%20https%3A%2F%2Fwww.googleapis.com%2Fauth%2Fdrive%20https%3A%2F%2Fwww.googleapis.com%2Fauth%2Fdrive.photos.readonly%20https%3A%2F%2Fwww.googleapis.com%2Fauth%2Fpeopleapi.readonly&response_type=code\n",
      "\n",
      "Enter your authorization code:\n",
      "··········\n",
      "Mounted at /content/drive\n"
     ]
    }
   ],
   "source": [
    "from google.colab import drive\n",
    "drive.mount('/content/drive')"
   ]
  },
  {
   "cell_type": "code",
   "execution_count": 0,
   "metadata": {
    "colab": {},
    "colab_type": "code",
    "id": "pBwSlB1YqDMq"
   },
   "outputs": [],
   "source": [
    "def display_reconstructed(original_img, decoded_img, n=10):\n",
    "    plt.figure(figsize=(10, 4))\n",
    "\n",
    "    for i in range(n):\n",
    "        # display original images\n",
    "        ax = plt.subplot(2, n, i + 1)\n",
    "        plt.imshow(original_img[i].reshape(28, 28))\n",
    "        plt.gray()\n",
    "        ax.get_xaxis().set_visible(False)\n",
    "        ax.get_yaxis().set_visible(False)\n",
    "\n",
    "        if decoded_img is not None:\n",
    "            # display decoded images\n",
    "            ax = plt.subplot(2, n, i + n + 1)\n",
    "            plt.imshow(decoded_img[i].reshape(28, 28))\n",
    "            plt.gray()\n",
    "            ax.get_xaxis().set_visible(False)\n",
    "            ax.get_yaxis().set_visible(False)\n",
    "\n",
    "        plt.savefig(f'drive/My Drive/Notebooks/{int(time.time())}.png')\n",
    "    plt.show()"
   ]
  },
  {
   "cell_type": "code",
   "execution_count": 12,
   "metadata": {
    "colab": {
     "base_uri": "https://localhost:8080/",
     "height": 111
    },
    "colab_type": "code",
    "executionInfo": {
     "elapsed": 6286,
     "status": "ok",
     "timestamp": 1563031128207,
     "user": {
      "displayName": "Gautam J",
      "photoUrl": "https://lh5.googleusercontent.com/-fBaexzNpkSY/AAAAAAAAAAI/AAAAAAAAK0c/lidXWy2Lnbs/s64/photo.jpg",
      "userId": "18367364014820236362"
     },
     "user_tz": -330
    },
    "id": "2zkT5whIqJy1",
    "outputId": "8f3a16a9-05fa-4785-8bf0-bdc71780fd6f"
   },
   "outputs": [
    {
     "name": "stdout",
     "output_type": "stream",
     "text": [
      "(60000, 28, 28, 1)\n",
      "(10000, 28, 28, 1)\n"
     ]
    },
    {
     "data": {
      "image/png": "[encoded data removed]",
      "text/plain": [
       "<Figure size 720x288 with 10 Axes>"
      ]
     },
     "metadata": {
      "tags": []
     },
     "output_type": "display_data"
    }
   ],
   "source": [
    "(train_x, _), (test_x, _) = fashion_mnist.load_data()\n",
    "\n",
    "train_x = train_x.astype('float32') / 255\n",
    "test_x = test_x.astype('float32') / 255\n",
    "\n",
    "train_x = train_x.reshape(-1, 28, 28, 1)\n",
    "test_x = test_x.reshape(-1, 28, 28, 1)\n",
    "\n",
    "print(train_x.shape)\n",
    "print(test_x.shape)\n",
    "\n",
    "noise_factor = 0.3\n",
    "train_x_noisy = train_x + noise_factor * np.random.normal(loc=0.0,\n",
    "                                                          scale=1,\n",
    "                                                          size=train_x.shape)\n",
    "\n",
    "test_x_noisy = test_x + noise_factor * np.random.normal(loc=0.0,\n",
    "                                                        scale=1,\n",
    "                                                        size=test_x.shape)\n",
    "\n",
    "train_x_noisy = np.clip(train_x_noisy, 0., 1.)\n",
    "test_x_noisy = np.clip(test_x_noisy, 0., 1.)\n",
    "\n",
    "display_reconstructed(test_x_noisy, None)"
   ]
  },
  {
   "cell_type": "code",
   "execution_count": 16,
   "metadata": {
    "colab": {
     "base_uri": "https://localhost:8080/",
     "height": 70
    },
    "colab_type": "code",
    "executionInfo": {
     "elapsed": 3660,
     "status": "ok",
     "timestamp": 1563031227761,
     "user": {
      "displayName": "Gautam J",
      "photoUrl": "https://lh5.googleusercontent.com/-fBaexzNpkSY/AAAAAAAAAAI/AAAAAAAAK0c/lidXWy2Lnbs/s64/photo.jpg",
      "userId": "18367364014820236362"
     },
     "user_tz": -330
    },
    "id": "UUFPRBHuqSQJ",
    "outputId": "614ea34a-644b-4de7-e292-f67eeb7f27e0"
   },
   "outputs": [
    {
     "name": "stderr",
     "output_type": "stream",
     "text": [
      "W0713 15:20:25.976209 139981198702464 deprecation_wrapper.py:119] From /usr/local/lib/python3.6/dist-packages/keras/backend/tensorflow_backend.py:2018: The name tf.image.resize_nearest_neighbor is deprecated. Please use tf.compat.v1.image.resize_nearest_neighbor instead.\n",
      "\n"
     ]
    }
   ],
   "source": [
    "def encoder(input_img):\n",
    "    # encoder\n",
    "    conv1 = Conv2D(32, (3, 3), activation='relu', padding='same')(input_img) #28 x 28 x 32\n",
    "    conv1 = BatchNormalization()(conv1)\n",
    "    conv1 = Conv2D(32, (3, 3), activation='relu', padding='same')(conv1)\n",
    "    conv1 = BatchNormalization()(conv1)\n",
    "    \n",
    "    pool1 = MaxPooling2D(pool_size=(2, 2))(conv1) #14 x 14 x 32\n",
    "    \n",
    "    conv2 = Conv2D(64, (3, 3), activation='relu', padding='same')(pool1) #14 x 14 x 64\n",
    "    conv2 = BatchNormalization()(conv2)\n",
    "    conv2 = Conv2D(64, (3, 3), activation='relu', padding='same')(conv2)\n",
    "    conv2 = BatchNormalization()(conv2)\n",
    "    \n",
    "    pool2 = MaxPooling2D(pool_size=(2, 2))(conv2) #7 x 7 x 64\n",
    "    \n",
    "    conv3 = Conv2D(128, (3, 3), activation='relu', padding='same')(pool2) #7 x 7 x 128 (small and thick)\n",
    "    conv3 = BatchNormalization()(conv3)\n",
    "    conv3 = Conv2D(128, (3, 3), activation='relu', padding='same')(conv3)\n",
    "    conv3 = BatchNormalization()(conv3)\n",
    "    \n",
    "    conv4 = Conv2D(256, (3, 3), activation='relu', padding='same')(conv3) #7 x 7 x 256 (small and thick)\n",
    "    conv4 = BatchNormalization()(conv4)\n",
    "    conv4 = Conv2D(256, (3, 3), activation='relu', padding='same')(conv4)\n",
    "    conv4 = BatchNormalization()(conv4)\n",
    "    \n",
    "    return conv4\n",
    "\n",
    "\n",
    "def decoder(conv4):    \n",
    "    #decoder\n",
    "    conv5 = Conv2D(128, (3, 3), activation='relu', padding='same')(conv4) #7 x 7 x 128\n",
    "    conv5 = BatchNormalization()(conv5)\n",
    "    conv5 = Conv2D(128, (3, 3), activation='relu', padding='same')(conv5)\n",
    "    conv5 = BatchNormalization()(conv5)\n",
    "    \n",
    "    conv6 = Conv2D(64, (3, 3), activation='relu', padding='same')(conv5) #7 x 7 x 64\n",
    "    conv6 = BatchNormalization()(conv6)\n",
    "    conv6 = Conv2D(64, (3, 3), activation='relu', padding='same')(conv6)\n",
    "    conv6 = BatchNormalization()(conv6)\n",
    "    \n",
    "    up1 = UpSampling2D((2,2))(conv6) #14 x 14 x 64\n",
    "    \n",
    "    conv7 = Conv2D(32, (3, 3), activation='relu', padding='same')(up1) # 14 x 14 x 32\n",
    "    conv7 = BatchNormalization()(conv7)\n",
    "    conv7 = Conv2D(32, (3, 3), activation='relu', padding='same')(conv7)\n",
    "    conv7 = BatchNormalization()(conv7)\n",
    "    \n",
    "    up2 = UpSampling2D((2,2))(conv7) # 28 x 28 x 32\n",
    "    \n",
    "    decoded = Conv2D(1, (3, 3), activation='sigmoid', padding='same')(up2) # 28 x 28 x 1\n",
    "    \n",
    "    return decoded\n",
    "  \n",
    "\n",
    "input_img = Input(shape=(28, 28, 1))\n",
    "autoencoder = Model(input_img, decoder(encoder(input_img)))\n",
    "autoencoder.compile(loss='mean_squared_error', optimizer='rmsprop')\n",
    "\n",
    "plot_model(autoencoder, to_file='drive/My Drive/Notebooks/fmnist_deep.png', show_shapes=True)"
   ]
  },
  {
   "cell_type": "code",
   "execution_count": 17,
   "metadata": {
    "colab": {
     "base_uri": "https://localhost:8080/",
     "height": 1000
    },
    "colab_type": "code",
    "executionInfo": {
     "elapsed": 1660,
     "status": "ok",
     "timestamp": 1563031275266,
     "user": {
      "displayName": "Gautam J",
      "photoUrl": "https://lh5.googleusercontent.com/-fBaexzNpkSY/AAAAAAAAAAI/AAAAAAAAK0c/lidXWy2Lnbs/s64/photo.jpg",
      "userId": "18367364014820236362"
     },
     "user_tz": -330
    },
    "id": "FiIe2_Ctqdit",
    "outputId": "2878beb4-3851-4b1f-f97f-1854ac780568"
   },
   "outputs": [
    {
     "name": "stdout",
     "output_type": "stream",
     "text": [
      "_________________________________________________________________\n",
      "Layer (type)                 Output Shape              Param #   \n",
      "=================================================================\n",
      "input_3 (InputLayer)         (None, 28, 28, 1)         0         \n",
      "_________________________________________________________________\n",
      "conv2d_16 (Conv2D)           (None, 28, 28, 32)        320       \n",
      "_________________________________________________________________\n",
      "batch_normalization_13 (Batc (None, 28, 28, 32)        128       \n",
      "_________________________________________________________________\n",
      "conv2d_17 (Conv2D)           (None, 28, 28, 32)        9248      \n",
      "_________________________________________________________________\n",
      "batch_normalization_14 (Batc (None, 28, 28, 32)        128       \n",
      "_________________________________________________________________\n",
      "max_pooling2d_5 (MaxPooling2 (None, 14, 14, 32)        0         \n",
      "_________________________________________________________________\n",
      "conv2d_18 (Conv2D)           (None, 14, 14, 64)        18496     \n",
      "_________________________________________________________________\n",
      "batch_normalization_15 (Batc (None, 14, 14, 64)        256       \n",
      "_________________________________________________________________\n",
      "conv2d_19 (Conv2D)           (None, 14, 14, 64)        36928     \n",
      "_________________________________________________________________\n",
      "batch_normalization_16 (Batc (None, 14, 14, 64)        256       \n",
      "_________________________________________________________________\n",
      "max_pooling2d_6 (MaxPooling2 (None, 7, 7, 64)          0         \n",
      "_________________________________________________________________\n",
      "conv2d_20 (Conv2D)           (None, 7, 7, 128)         73856     \n",
      "_________________________________________________________________\n",
      "batch_normalization_17 (Batc (None, 7, 7, 128)         512       \n",
      "_________________________________________________________________\n",
      "conv2d_21 (Conv2D)           (None, 7, 7, 128)         147584    \n",
      "_________________________________________________________________\n",
      "batch_normalization_18 (Batc (None, 7, 7, 128)         512       \n",
      "_________________________________________________________________\n",
      "conv2d_22 (Conv2D)           (None, 7, 7, 256)         295168    \n",
      "_________________________________________________________________\n",
      "batch_normalization_19 (Batc (None, 7, 7, 256)         1024      \n",
      "_________________________________________________________________\n",
      "conv2d_23 (Conv2D)           (None, 7, 7, 256)         590080    \n",
      "_________________________________________________________________\n",
      "batch_normalization_20 (Batc (None, 7, 7, 256)         1024      \n",
      "_________________________________________________________________\n",
      "conv2d_24 (Conv2D)           (None, 7, 7, 128)         295040    \n",
      "_________________________________________________________________\n",
      "batch_normalization_21 (Batc (None, 7, 7, 128)         512       \n",
      "_________________________________________________________________\n",
      "conv2d_25 (Conv2D)           (None, 7, 7, 128)         147584    \n",
      "_________________________________________________________________\n",
      "batch_normalization_22 (Batc (None, 7, 7, 128)         512       \n",
      "_________________________________________________________________\n",
      "conv2d_26 (Conv2D)           (None, 7, 7, 64)          73792     \n",
      "_________________________________________________________________\n",
      "batch_normalization_23 (Batc (None, 7, 7, 64)          256       \n",
      "_________________________________________________________________\n",
      "conv2d_27 (Conv2D)           (None, 7, 7, 64)          36928     \n",
      "_________________________________________________________________\n",
      "batch_normalization_24 (Batc (None, 7, 7, 64)          256       \n",
      "_________________________________________________________________\n",
      "up_sampling2d_1 (UpSampling2 (None, 14, 14, 64)        0         \n",
      "_________________________________________________________________\n",
      "conv2d_28 (Conv2D)           (None, 14, 14, 32)        18464     \n",
      "_________________________________________________________________\n",
      "batch_normalization_25 (Batc (None, 14, 14, 32)        128       \n",
      "_________________________________________________________________\n",
      "conv2d_29 (Conv2D)           (None, 14, 14, 32)        9248      \n",
      "_________________________________________________________________\n",
      "batch_normalization_26 (Batc (None, 14, 14, 32)        128       \n",
      "_________________________________________________________________\n",
      "up_sampling2d_2 (UpSampling2 (None, 28, 28, 32)        0         \n",
      "_________________________________________________________________\n",
      "conv2d_30 (Conv2D)           (None, 28, 28, 1)         289       \n",
      "=================================================================\n",
      "Total params: 1,758,657\n",
      "Trainable params: 1,755,841\n",
      "Non-trainable params: 2,816\n",
      "_________________________________________________________________\n",
      "None\n"
     ]
    }
   ],
   "source": [
    "fpath = 'drive/My Drive/Notebooks/fmnist_deep.h5'\n",
    "\n",
    "mc = ModelCheckpoint(fpath, verbose=1, save_best_only=True,\n",
    "                     monitor='val_loss', save_weights_only=False)\n",
    "\n",
    "es = EarlyStopping(monitor='val_loss', patience=5, verbose=1)\n",
    "\n",
    "log = CSVLogger('drive/My Drive/Notebooks/fmnist_deep_log.csv', append=True)\n",
    "\n",
    "print(autoencoder.summary())"
   ]
  },
  {
   "cell_type": "code",
   "execution_count": 18,
   "metadata": {
    "colab": {
     "base_uri": "https://localhost:8080/",
     "height": 1000
    },
    "colab_type": "code",
    "executionInfo": {
     "elapsed": 2695204,
     "status": "ok",
     "timestamp": 1563033987923,
     "user": {
      "displayName": "Gautam J",
      "photoUrl": "https://lh5.googleusercontent.com/-fBaexzNpkSY/AAAAAAAAAAI/AAAAAAAAK0c/lidXWy2Lnbs/s64/photo.jpg",
      "userId": "18367364014820236362"
     },
     "user_tz": -330
    },
    "id": "-L6JjyqgjtjY",
    "outputId": "7673feef-d3e5-4fe6-dbf1-eadb6942e7a0"
   },
   "outputs": [
    {
     "name": "stdout",
     "output_type": "stream",
     "text": [
      "Train on 60000 samples, validate on 10000 samples\n",
      "Epoch 1/200\n",
      "60000/60000 [==============================] - 142s 2ms/step - loss: 0.0180 - val_loss: 0.0139\n",
      "\n",
      "Epoch 00001: val_loss improved from inf to 0.01394, saving model to drive/My Drive/Notebooks/fmnist_deep.h5\n",
      "Epoch 2/200\n",
      "60000/60000 [==============================] - 136s 2ms/step - loss: 0.0110 - val_loss: 0.0099\n",
      "\n",
      "Epoch 00002: val_loss improved from 0.01394 to 0.00991, saving model to drive/My Drive/Notebooks/fmnist_deep.h5\n",
      "Epoch 3/200\n",
      "60000/60000 [==============================] - 134s 2ms/step - loss: 0.0098 - val_loss: 0.0113\n",
      "\n",
      "Epoch 00003: val_loss did not improve from 0.00991\n",
      "Epoch 4/200\n",
      "60000/60000 [==============================] - 133s 2ms/step - loss: 0.0091 - val_loss: 0.0097\n",
      "\n",
      "Epoch 00004: val_loss improved from 0.00991 to 0.00968, saving model to drive/My Drive/Notebooks/fmnist_deep.h5\n",
      "Epoch 5/200\n",
      "60000/60000 [==============================] - 134s 2ms/step - loss: 0.0085 - val_loss: 0.0087\n",
      "\n",
      "Epoch 00005: val_loss improved from 0.00968 to 0.00874, saving model to drive/My Drive/Notebooks/fmnist_deep.h5\n",
      "Epoch 6/200\n",
      "60000/60000 [==============================] - 134s 2ms/step - loss: 0.0082 - val_loss: 0.0088\n",
      "\n",
      "Epoch 00006: val_loss did not improve from 0.00874\n",
      "Epoch 7/200\n",
      "60000/60000 [==============================] - 136s 2ms/step - loss: 0.0079 - val_loss: 0.0080\n",
      "\n",
      "Epoch 00007: val_loss improved from 0.00874 to 0.00795, saving model to drive/My Drive/Notebooks/fmnist_deep.h5\n",
      "Epoch 8/200\n",
      "60000/60000 [==============================] - 136s 2ms/step - loss: 0.0077 - val_loss: 0.0084\n",
      "\n",
      "Epoch 00008: val_loss did not improve from 0.00795\n",
      "Epoch 9/200\n",
      "60000/60000 [==============================] - 136s 2ms/step - loss: 0.0075 - val_loss: 0.0077\n",
      "\n",
      "Epoch 00009: val_loss improved from 0.00795 to 0.00773, saving model to drive/My Drive/Notebooks/fmnist_deep.h5\n",
      "Epoch 10/200\n",
      "60000/60000 [==============================] - 137s 2ms/step - loss: 0.0074 - val_loss: 0.0082\n",
      "\n",
      "Epoch 00010: val_loss did not improve from 0.00773\n",
      "Epoch 11/200\n",
      "60000/60000 [==============================] - 136s 2ms/step - loss: 0.0072 - val_loss: 0.0078\n",
      "\n",
      "Epoch 00011: val_loss did not improve from 0.00773\n",
      "Epoch 12/200\n",
      "60000/60000 [==============================] - 136s 2ms/step - loss: 0.0071 - val_loss: 0.0077\n",
      "\n",
      "Epoch 00012: val_loss did not improve from 0.00773\n",
      "Epoch 13/200\n",
      "60000/60000 [==============================] - 136s 2ms/step - loss: 0.0069 - val_loss: 0.0076\n",
      "\n",
      "Epoch 00013: val_loss improved from 0.00773 to 0.00764, saving model to drive/My Drive/Notebooks/fmnist_deep.h5\n",
      "Epoch 14/200\n",
      "60000/60000 [==============================] - 135s 2ms/step - loss: 0.0068 - val_loss: 0.0077\n",
      "\n",
      "Epoch 00014: val_loss did not improve from 0.00764\n",
      "Epoch 15/200\n",
      "60000/60000 [==============================] - 135s 2ms/step - loss: 0.0067 - val_loss: 0.0075\n",
      "\n",
      "Epoch 00015: val_loss improved from 0.00764 to 0.00748, saving model to drive/My Drive/Notebooks/fmnist_deep.h5\n",
      "Epoch 16/200\n",
      "60000/60000 [==============================] - 132s 2ms/step - loss: 0.0066 - val_loss: 0.0083\n",
      "\n",
      "Epoch 00016: val_loss did not improve from 0.00748\n",
      "Epoch 17/200\n",
      "60000/60000 [==============================] - 129s 2ms/step - loss: 0.0065 - val_loss: 0.0075\n",
      "\n",
      "Epoch 00017: val_loss did not improve from 0.00748\n",
      "Epoch 18/200\n",
      "60000/60000 [==============================] - 128s 2ms/step - loss: 0.0064 - val_loss: 0.0076\n",
      "\n",
      "Epoch 00018: val_loss did not improve from 0.00748\n",
      "Epoch 19/200\n",
      "60000/60000 [==============================] - 128s 2ms/step - loss: 0.0063 - val_loss: 0.0076\n",
      "\n",
      "Epoch 00019: val_loss did not improve from 0.00748\n",
      "Epoch 20/200\n",
      "60000/60000 [==============================] - 131s 2ms/step - loss: 0.0063 - val_loss: 0.0077\n",
      "\n",
      "Epoch 00020: val_loss did not improve from 0.00748\n",
      "Epoch 00020: early stopping\n"
     ]
    },
    {
     "data": {
      "text/plain": [
       "<keras.callbacks.History at 0x7f4f9d683b38>"
      ]
     },
     "execution_count": 18,
     "metadata": {
      "tags": []
     },
     "output_type": "execute_result"
    }
   ],
   "source": [
    "autoencoder.fit(train_x_noisy, train_x, epochs=200,\n",
    "                validation_data=(test_x_noisy, test_x),\n",
    "                callbacks=[mc, log, es])"
   ]
  },
  {
   "cell_type": "code",
   "execution_count": 20,
   "metadata": {
    "colab": {
     "base_uri": "https://localhost:8080/",
     "height": 173
    },
    "colab_type": "code",
    "executionInfo": {
     "elapsed": 10533,
     "status": "ok",
     "timestamp": 1563034262248,
     "user": {
      "displayName": "Gautam J",
      "photoUrl": "https://lh5.googleusercontent.com/-fBaexzNpkSY/AAAAAAAAAAI/AAAAAAAAK0c/lidXWy2Lnbs/s64/photo.jpg",
      "userId": "18367364014820236362"
     },
     "user_tz": -330
    },
    "id": "dIQCyeXkU3YQ",
    "outputId": "5222f0cf-5935-4d68-fe64-39c303f74b98"
   },
   "outputs": [
    {
     "data": {
      "image/png": "[encoded data removed]",
      "text/plain": [
       "<Figure size 720x288 with 40 Axes>"
      ]
     },
     "metadata": {
      "tags": []
     },
     "output_type": "display_data"
    }
   ],
   "source": [
    "autoencoder.load_weights('drive/My Drive/Notebooks/fmnist_deep.h5')\n",
    "pred_img = autoencoder.predict(test_x_noisy)\n",
    "display_reconstructed(test_x_noisy, pred_img, 20)"
   ]
  }
 ],
 "metadata": {
  "accelerator": "GPU",
  "colab": {
   "collapsed_sections": [],
   "name": "Denoising_fmnist.ipynb",
   "provenance": [],
   "version": "0.3.2"
  },
  "kernelspec": {
   "display_name": "Python 3",
   "language": "python",
   "name": "python3"
  },
  "language_info": {
   "codemirror_mode": {
    "name": "ipython",
    "version": 3
   },
   "file_extension": ".py",
   "mimetype": "text/x-python",
   "name": "python",
   "nbconvert_exporter": "python",
   "pygments_lexer": "ipython3",
   "version": "3.6.3"
  }
 },
 "nbformat": 4,
 "nbformat_minor": 1
}
